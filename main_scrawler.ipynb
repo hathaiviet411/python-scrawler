{
 "cells": [
  {
   "cell_type": "code",
   "execution_count": 52,
   "id": "92a78518",
   "metadata": {},
   "outputs": [],
   "source": [
    "import requests;"
   ]
  },
  {
   "cell_type": "code",
   "execution_count": 53,
   "id": "e447170a",
   "metadata": {},
   "outputs": [],
   "source": [
    "from selenium import webdriver;\n",
    "from selenium.webdriver.common.keys import Keys;\n",
    "from selenium.webdriver.common.by import By;\n",
    "from time import sleep;\n",
    "from bs4 import BeautifulSoup;\n",
    "import pandas;\n",
    "import csv;"
   ]
  },
  {
   "cell_type": "code",
   "execution_count": 54,
   "id": "0ffb66fb",
   "metadata": {},
   "outputs": [
    {
     "name": "stdout",
     "output_type": "stream",
     "text": [
      "Initialization Successfully !\n"
     ]
    }
   ],
   "source": [
    "print('Initialization Successfully !');"
   ]
  },
  {
   "cell_type": "code",
   "execution_count": 55,
   "id": "adf6fa7b",
   "metadata": {},
   "outputs": [],
   "source": [
    "driver = webdriver.Chrome();"
   ]
  },
  {
   "cell_type": "code",
   "execution_count": 56,
   "id": "7383340d",
   "metadata": {},
   "outputs": [],
   "source": [
    "url = 'https://izumi.vw-dev.com/';\n",
    "driver.get(url);"
   ]
  },
  {
   "cell_type": "code",
   "execution_count": 57,
   "id": "d61a110f",
   "metadata": {},
   "outputs": [],
   "source": [
    "loginInformation = open('login_credentials.txt');\n",
    "line = loginInformation.readlines();\n",
    "user_id = line[0];\n",
    "password = line[1];\n",
    "sleep(2);"
   ]
  },
  {
   "cell_type": "code",
   "execution_count": 58,
   "id": "eb1f9687",
   "metadata": {},
   "outputs": [],
   "source": [
    "id_field = driver.find_element(By.XPATH, '//*[@id=\"app\"]/div/div/div/div/div/div/div/div[1]/input');\n",
    "id_field.send_keys(user_id);\n",
    "sleep(2);"
   ]
  },
  {
   "cell_type": "code",
   "execution_count": 59,
   "id": "6b98b92d",
   "metadata": {},
   "outputs": [],
   "source": [
    "pwd_field = driver.find_element(By.XPATH, '//*[@id=\"app\"]/div/div/div/div/div/div/div/div[2]/input');\n",
    "pwd_field.send_keys(password);\n",
    "sleep(2);"
   ]
  },
  {
   "cell_type": "code",
   "execution_count": 60,
   "id": "6db49532",
   "metadata": {},
   "outputs": [],
   "source": [
    "btn_login = driver.find_element(By.XPATH, '//*[@id=\"app\"]/div/div/div/div/div/div/div/div[4]/button');\n",
    "btn_login.click();\n",
    "sleep(2);"
   ]
  },
  {
   "cell_type": "code",
   "execution_count": 61,
   "id": "e03b5090",
   "metadata": {},
   "outputs": [],
   "source": [
    "dev_page = url + '#/test/index';\n",
    "driver.get(dev_page);\n",
    "sleep(2);\n",
    "btn_english = driver.find_element(By.XPATH, '//*[@id=\"page-content-wrapper\"]/div/div/div/div[2]/div[7]/button[2]');\n",
    "btn_english.click();\n",
    "sleep(2);"
   ]
  },
  {
   "cell_type": "code",
   "execution_count": 62,
   "id": "85c830ee",
   "metadata": {},
   "outputs": [],
   "source": [
    "user_management_page = url + '#/user-management/index';\n",
    "driver.get(user_management_page);\n",
    "sleep(5);"
   ]
  },
  {
   "cell_type": "code",
   "execution_count": null,
   "id": "097fabc2",
   "metadata": {},
   "outputs": [],
   "source": [
    "page_source = BeautifulSoup(driver.page_source, 'html.parser');\n",
    "tableUserManagement = page_source.find('table', class_ = 'table-user');\n",
    "\n",
    "listUserName = [];\n",
    "\n",
    "for user in tableUserManagement.find_all('tbody'):\n",
    "    rows = user.find_all('tr');\n",
    "    for row in rows:\n",
    "        user_name = row.find('td').text.strip();\n",
    "        listUserName.append(user_name);\n",
    "\n",
    "print(listUserName);\n",
    "\n",
    "with open('user.txt', 'w', encoding='utf8') as file:\n",
    "        for user_name in listUserName:\n",
    "            file.write(user_name);\n",
    "            file.write('\\n');\n",
    "\n",
    "with open('user.csv', 'w+', newline='', encoding='utf8') as file:\n",
    "    w = csv.writer(file);\n",
    "    w.writerow('Meo')\n",
    "    for user_name in listUserName:\n",
    "        file.write(user_name + '\\n');"
   ]
  }
 ],
 "metadata": {
  "kernelspec": {
   "display_name": "Python 3 (ipykernel)",
   "language": "python",
   "name": "python3"
  },
  "language_info": {
   "codemirror_mode": {
    "name": "ipython",
    "version": 3
   },
   "file_extension": ".py",
   "mimetype": "text/x-python",
   "name": "python",
   "nbconvert_exporter": "python",
   "pygments_lexer": "ipython3",
   "version": "3.10.0"
  }
 },
 "nbformat": 4,
 "nbformat_minor": 5
}
